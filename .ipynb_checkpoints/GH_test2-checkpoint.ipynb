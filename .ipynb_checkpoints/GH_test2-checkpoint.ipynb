{
 "cells": [
  {
   "cell_type": "code",
   "execution_count": 66,
   "metadata": {
    "collapsed": true
   },
   "outputs": [],
   "source": [
    "#Created by: Georgina Hoagland\n",
    "#Created: Aug 29, 2016\n",
    "#Last Modified: October 6, 2016\n",
    "\n",
    "#To check: Day counters and calendar conventions\n",
    "#To add: Units\n",
    "\n",
    "from QuantLib import *\n",
    "\n",
    "#setup global eval date \n",
    "calc_date = Date(6, 10, 2016)\n",
    "Settings.instance().evaluationDate = calc_date\n",
    "\n",
    "#Calendar, rules, conventions\n",
    "\n",
    "calendars = [Argentina, Australia, BespokeCalendar, Brazil, Canada, China, \\\n",
    "             CzechRepublic, Denmark, Finland, Germany, HongKong, Hungary, Iceland, \\\n",
    "             India, Indonesia, Israel, Italy, Japan, JointCalendar, Mexico, NewZealand,\\\n",
    "             Norway, NullCalendar, Poland, Romania, Russia, SaudiArabia, Singapore, \\\n",
    "             Slovakia, SouthAfrica, SouthKorea, Sweden, Switzerland, Taiwan, TARGET, \\\n",
    "             Turkey, Ukraine, UnitedKingdom, UnitedStates, WeekendsOnly]\n",
    "\n",
    "bus_day_conventions = [Following, ModifiedFollowing, Preceding, ModifiedPreceding, \\\n",
    "                       Unadjusted,HalfMonthModifiedFollowing]\n",
    "\n",
    "gen_rules = [DateGeneration.Backward, DateGeneration.Forward, DateGeneration.Zero, \\\n",
    "             DateGeneration.ThirdWednesday] \n",
    "\n"
   ]
  },
  {
   "cell_type": "code",
   "execution_count": 67,
   "metadata": {
    "collapsed": false
   },
   "outputs": [],
   "source": [
    "#Swap info\n",
    "\n",
    "settlementDays = 2\n",
    "    \n",
    "fixedLegNotional = 100 #dollars\n",
    "fixedLegTenor = Period(6, Months)\n",
    "fixedLegFrequency = Semiannual\n",
    "fixedLegAdjustment = ModifiedFollowing\n",
    "fixedLegDayCounter = Thirty360()\n",
    "\n",
    "floatingLegSpread = 0.0 #Libor rate - Treasury security of same maturity\n",
    "floatingLegTenor = Period(6, Months) #Libor 6M\n",
    "floatingLegFrequency = Semiannual\n",
    "#floatingLegAdjustment = ModifiedFollowing\n",
    "#floatingLegDayCounter = Thirty360()\n",
    "#When changed to Actual360 to correspond with Libor conventions,\\\n",
    "#NPV for maturities that are traded (i.e. 1, 7, 10, 20, 25Y and not 11, 17, 24Y)\\\n",
    "#moved to the e-12 - e-15 range?\n",
    "\n",
    "# term structure handles\n",
    "discountTermStructure = RelinkableYieldTermStructureHandle()\n",
    "forwardTermStructure = RelinkableYieldTermStructureHandle() \n",
    "# RelinkableHandle<YieldTermStructure>\n",
    "\n",
    "#need to change to be able to change currency?\n",
    "liborIndex = USDLibor(floatingLegTenor, discountTermStructure)\n",
    "\n",
    "floatingLegDayCounter = liborIndex.dayCounter()\n",
    "floatingLegAdjustment = liborIndex.businessDayConvention()\n",
    "\n",
    "\n",
    "#use index in from lists to choose calendar, convention, etc.\n",
    "eval_date = calc_date\n",
    "cal = calendars[-6]() #TARGET\n",
    "\n",
    "gen_rule = gen_rules[0] # Backward \n",
    "end_of_month = True\n",
    "\n",
    "settlementDate = cal.advance(eval_date, settlementDays, Days, floatingLegAdjustment)\n",
    "\n",
    "#Unadjusted calendar for termination purposes\n",
    "termination_cal = calendars[-18]() #NullCalendar\n",
    "termination_convention = bus_day_conventions[4] #Unadjusted"
   ]
  },
  {
   "cell_type": "code",
   "execution_count": 68,
   "metadata": {
    "collapsed": false
   },
   "outputs": [],
   "source": [
    "#Inputs\n",
    "\n",
    "ois = {   (1,Days): 0.004,\n",
    "          (1,Weeks): 0.004,\n",
    "          (2,Weeks): 0.004,\n",
    "          (3,Weeks): 0.00417,\n",
    "          (1,Months): 0.004175,\n",
    "          (2,Months): 0.00429,\n",
    "          (3,Months): 0.004366,\n",
    "          (4,Months): 0.004515,\n",
    "          (5,Months): 0.00472,\n",
    "          (6,Months): 0.00485,\n",
    "          (9,Months): 0.00518,\n",
    "          (12,Months): 0.005445,\n",
    "          (18,Months): 0.005801,\n",
    "          (2,Years): 0.006070,\n",
    "          (3,Years): 0.006560,\n",
    "          (4,Years): 0.007010,\n",
    "          (5,Years): 0.007490,\n",
    "          (7,Years): 0.012512,\n",
    "          (10,Years): 0.013925,\n",
    "          (12,Years): 0.014701,\n",
    "          (15,Years): 0.015529,\n",
    "          (20,Years): 0.016385,\n",
    "          (25,Years): 0.016780,\n",
    "          (30,Years): 0.016989,\n",
    "          (40,Years): 0.016995,\n",
    "          (50,Years): 0.017085}\n",
    "\n",
    "#convert to ql Quote objects\n",
    "for n,unit in ois.keys():\n",
    "    ois[(n,unit)] = SimpleQuote(ois[(n,unit)])\n",
    "    \n",
    "#Should probably be using a different index but not sure which one?\n",
    "#needed for oisHelpers\n",
    "overnightIndex = FedFunds(discountTermStructure)\n",
    "\n",
    "swaps = { (1,Years): 0.00900,\n",
    "          (2,Years): 0.00975,    \n",
    "          (3,Years): 0.01040,\n",
    "          (4,Years): 0.01099,\n",
    "          (5,Years): 0.01160,\n",
    "          (6,Years): 0.01224,\n",
    "          (7,Years): 0.01284,\n",
    "          (8,Years): 0.01343,\n",
    "          (9,Years): 0.01390,\n",
    "          (10,Years): 0.01438,\n",
    "          (15,Years): 0.01610,\n",
    "          (20,Years): 0.01707,\n",
    "          (25,Years): 0.01752,\n",
    "          (30,Years): 0.01778} # 1 Year = 90bps, etc. \n",
    "\n",
    "\n",
    "#convert swap quotes from floats to Quote objects\n",
    "for (n,unit) in swaps.keys():\n",
    "    swaps[(n,unit)] = SimpleQuote(swaps[(n,unit)])\n"
   ]
  },
  {
   "cell_type": "code",
   "execution_count": 69,
   "metadata": {
    "collapsed": true
   },
   "outputs": [],
   "source": [
    "#Schedule\n",
    "\n",
    "#creates dicts with keys of year term and values of termination date/payment schedule \n",
    "termination_date = {}\n",
    "for i in range(1, 31):\n",
    "    termination_date[i] = termination_cal.advance(settlementDate, Period(i, Years), \\\n",
    "                                                  termination_convention)\n",
    "fixedSchedule = {}\n",
    "for i in range(1, 31):\n",
    "    fixedSchedule[i] = Schedule(settlementDate, termination_date[i], fixedLegTenor, cal, \\\n",
    "                                   fixedLegAdjustment, fixedLegAdjustment, gen_rule, \\\n",
    "                                   end_of_month)\n",
    "floatingSchedule = {}\n",
    "for i in range(1, 31):\n",
    "    floatingSchedule[i] = Schedule(settlementDate, termination_date[i], floatingLegTenor, \\\n",
    "                                   cal, floatingLegAdjustment, floatingLegAdjustment, \\\n",
    "                                   gen_rule, end_of_month)"
   ]
  },
  {
   "cell_type": "code",
   "execution_count": 70,
   "metadata": {
    "collapsed": false
   },
   "outputs": [],
   "source": [
    "#Bootstrapping \n",
    "\n",
    "swapHelpers =  [SwapRateHelper(QuoteHandle(swaps[(n,unit)]), Period(n,unit), cal,\\\n",
    "                                     fixedLegFrequency, fixedLegAdjustment, \\\n",
    "                                     fixedLegDayCounter, liborIndex)\\\n",
    "                      for (n, unit) in swaps.keys() ]\n",
    "\n",
    "oisHelpers = [OISRateHelper(settlementDays, Period (n, unit), QuoteHandle(ois[(n, unit)]), \\\n",
    "                            overnightIndex)\\\n",
    "                     for (n, unit) in ois.keys()]\n",
    "\n",
    "#PiecewiseYieldCurve does not work in python\n",
    "#currently using PiecewiseFlatForward - corresponding to \\\n",
    "#PiecewiseYieldCurve<ForwardRate,BackwardFlat> in C++\n",
    "#check day counter - using fixedLegDayCounter\n",
    "\n",
    "piecewiseYieldCurve = PiecewiseFlatForward(settlementDays, cal, swapHelpers, \\\n",
    "                                           fixedLegDayCounter)\n",
    "oisCurve = PiecewiseFlatForward(settlementDays, cal, oisHelpers, fixedLegDayCounter)"
   ]
  },
  {
   "cell_type": "code",
   "execution_count": 71,
   "metadata": {
    "collapsed": false
   },
   "outputs": [],
   "source": [
    "#Swap additions - linear\n",
    "#uses averages to assign rates to non-existent swap maturities, i.e. 11Y, 12Y, 23Y\n",
    "swapsAdditionsLinear = {}\n",
    "for i in range(11, 31):\n",
    "    if i % 5 != 0:\n",
    "        swapsAdditionsLinear [(i, Years)] = \\\n",
    "                        ((swaps[((i//5 + 1) * 5, Years)].value() \\\n",
    "                          - swaps[((i//5)*5, Years)].value()) \\\n",
    "                          *(i % 5)/5) + swaps[((i//5)*5, Years)].value()\n",
    "for (i, unit) in swapsAdditionsLinear.keys():\n",
    "    swapsAdditionsLinear[(i, unit)] = SimpleQuote(\\\n",
    "                                            swapsAdditionsLinear[(i, unit)])\n",
    "            \n",
    "#both the given swap rates and intermediate values for non-existant maturities        \n",
    "swapsAll = {}\n",
    "for (i, unit) in swaps.keys():\n",
    "    swapsAll[(i, unit)] = swaps[(i, unit)]\n",
    "for (i, unit) in swapsAdditionsLinear.keys():\n",
    "    swapsAll[(i, unit)] = swapsAdditionsLinear[(i, unit)]"
   ]
  },
  {
   "cell_type": "code",
   "execution_count": 72,
   "metadata": {
    "collapsed": false
   },
   "outputs": [
    {
     "name": "stdout",
     "output_type": "stream",
     "text": [
      "1 -0.348048640793\n",
      "2 -0.716766639209\n",
      "3 -1.11698096604\n",
      "4 -1.53707541581\n",
      "5 -1.97351752475\n",
      "6 -0.995191109844\n",
      "7 -0.134095859923\n",
      "8 -0.14631819937\n",
      "9 -0.170178972093\n",
      "10 -0.290345649709\n",
      "11 -0.230528259125\n",
      "12 -0.235719351442\n",
      "13 -0.281921195951\n",
      "14 -0.390587106478\n",
      "15 -0.560042655706\n",
      "16 -0.558673648285\n",
      "17 -0.593559285888\n",
      "18 -0.661670820384\n",
      "19 -0.762810704654\n",
      "20 -0.896062282454\n",
      "21 -0.922110764784\n",
      "22 -0.964797385562\n",
      "23 -1.02199118514\n",
      "24 -1.09300995189\n",
      "25 -1.17782017438\n",
      "26 -1.22142151988\n",
      "27 -1.2725120672\n",
      "28 -1.3318812801\n",
      "29 -1.39826688327\n",
      "30 -1.4718313107\n"
     ]
    }
   ],
   "source": [
    "#Swap Pricing\n",
    "\n",
    "swapTypes = [VanillaSwap.Payer, VanillaSwap.Receiver]\n",
    "swapType = swapTypes[0]\n",
    "\n",
    "#discountTermStructure.linkTo(piecewiseYieldCurve)\n",
    "#forwardTermStructure.linkTo(piecewiseYieldCurve)\n",
    "discountTermStructure.linkTo(oisCurve)\n",
    "forwardTermStructure.linkTo(oisCurve)\n",
    "swapEngine = DiscountingSwapEngine(discountTermStructure)\n",
    "\n",
    "    \n",
    "vanillaSwaps = {}\n",
    "for i in range(1, 31):\n",
    "    vanillaSwaps[(i, Years)] = VanillaSwap(swapType, fixedLegNotional, fixedSchedule[i],\\\n",
    "                        swapsAll[(i, Years)].value(), fixedLegDayCounter, \\\n",
    "                        floatingSchedule[i], liborIndex, floatingLegSpread,\\\n",
    "                        floatingLegDayCounter)\n",
    "    \n",
    "    vanillaSwaps[(i, Years)].setPricingEngine(swapEngine)\n",
    "    \n",
    "swapsNPV = {}\n",
    "for i in range(1, 31):\n",
    "    swapsNPV[(i, Years)] = vanillaSwaps[(i, Years)].NPV()\n",
    "    print i, swapsNPV[(i, Years)]"
   ]
  },
  {
   "cell_type": "code",
   "execution_count": 50,
   "metadata": {
    "collapsed": true
   },
   "outputs": [],
   "source": [
    "#Swaption Volatility\n",
    "\n",
    "#using constant value of 40%\n",
    "volatilityFlat = 0.40\n",
    "\n",
    "volatilityStructure = ConstantSwaptionVolatility(settlementDays, cal,\\\n",
    "                                                     fixedLegAdjustment, volatilityFlat, \\\n",
    "                                                     fixedLegDayCounter)\n",
    "# default: VolatilityType type=ShiftedLognormal, const Real shift=0.0\n",
    "\n",
    "volatilityStructureHandle = SwaptionVolatilityStructureHandle(volatilityStructure)\n"
   ]
  },
  {
   "cell_type": "code",
   "execution_count": 38,
   "metadata": {
    "collapsed": true
   },
   "outputs": [],
   "source": [
    "#Swaption Inputs\n",
    "\n",
    "swaptionMaturity = Period(3, Months)\n",
    "swaptionExpiry = cal.advance(settlementDate, swaptionMaturity, floatingLegAdjustment)\n",
    "settlementType = Settlement.Physical\n",
    "\n",
    "#European\n",
    "swaptionExercise = EuropeanExercise(swaptionExpiry)"
   ]
  },
  {
   "cell_type": "code",
   "execution_count": 39,
   "metadata": {
    "collapsed": false
   },
   "outputs": [],
   "source": [
    "#Swaption Object\n",
    "\n",
    "swaptionPricingEngine = BlackSwaptionEngine(forwardTermStructure, volatilityStructureHandle)\n",
    "\n",
    "swaptions = {}\n",
    "for i in range(1, 31):\n",
    "    swaptions [(i, Years)] = Swaption(vanillaSwaps[(i, Years)], swaptionExercise, \\\n",
    "                                      settlementType)\n",
    "    \n",
    "    swaptions[(i, Years)].setPricingEngine(swaptionPricingEngine)"
   ]
  },
  {
   "cell_type": "code",
   "execution_count": 40,
   "metadata": {
    "collapsed": false
   },
   "outputs": [
    {
     "name": "stdout",
     "output_type": "stream",
     "text": [
      "1 0.000325303719214\n",
      "2 0.00109244019402\n",
      "3 0.00211805840285\n",
      "4 0.00354041905415\n",
      "5 0.00553264778379\n",
      "6 0.175939102676\n",
      "7 0.625195574045\n",
      "8 0.745902263811\n",
      "9 0.860269035704\n",
      "10 0.932199809793\n",
      "11 1.08784084815\n",
      "12 1.21342751064\n",
      "13 1.32145889727\n",
      "14 1.40049741091\n",
      "15 1.45264729278\n",
      "16 1.57431001786\n",
      "17 1.67798983017\n",
      "18 1.76601706111\n",
      "19 1.83841051674\n",
      "20 1.89598400312\n",
      "21 1.99094993359\n",
      "22 2.07663615628\n",
      "23 2.15459983915\n",
      "24 2.22546628871\n",
      "25 2.28907051549\n",
      "26 2.36528111652\n",
      "27 2.43735676484\n",
      "28 2.50348753863\n",
      "29 2.5657391514\n",
      "30 2.62360039193\n"
     ]
    }
   ],
   "source": [
    "#Swaption Pricing\n",
    "\n",
    "swaptionsNPV = {}\n",
    "for maturity in swaptions.keys():\n",
    "    swaptionsNPV[maturity] = swaptions[maturity].NPV()\n",
    "    \n",
    "for i in range(1, 31):\n",
    "    print i, swaptionsNPV[(i, Years)]\n"
   ]
  },
  {
   "cell_type": "code",
   "execution_count": 41,
   "metadata": {
    "collapsed": false
   },
   "outputs": [],
   "source": [
    "#Implied Volatility\n",
    "\n",
    "swaptionHelpers = {}\n",
    "impliedVols = {}\n",
    "for i in range(1, 31):\n",
    "    swaptionHelpers[(i, Years)] = SwaptionHelper(swaptionMaturity, Period(i, Years), \\\n",
    "                                  QuoteHandle(SimpleQuote(volatilityFlat)), \\\n",
    "                                  liborIndex, fixedLegTenor, fixedLegDayCounter, \\\n",
    "                                  floatingLegDayCounter, forwardTermStructure)\n",
    "\n",
    "    swaptionHelpers[(i, Years)].setPricingEngine(swaptionPricingEngine)\n",
    "\n",
    "#    impliedVols[(i, unit)] = swaptionHelpers[(i, unit)].impliedVolatility(\\\n",
    "#                                                            swaptionsNPV[(i, unit)], \\\n",
    "#                                                            1e-7, 50, 0.0, 10.0)\\\n",
    "                             \n",
    "#input values my be causing runtime errors in the implied vol value                "
   ]
  }
 ],
 "metadata": {
  "celltoolbar": "Edit Metadata",
  "kernelspec": {
   "display_name": "Python 2",
   "language": "python",
   "name": "python2"
  },
  "language_info": {
   "codemirror_mode": {
    "name": "ipython",
    "version": 2
   },
   "file_extension": ".py",
   "mimetype": "text/x-python",
   "name": "python",
   "nbconvert_exporter": "python",
   "pygments_lexer": "ipython2",
   "version": "2.7.12"
  }
 },
 "nbformat": 4,
 "nbformat_minor": 0
}
