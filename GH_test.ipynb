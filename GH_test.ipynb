{
 "cells": [
  {
   "cell_type": "code",
   "execution_count": 30,
   "metadata": {
    "collapsed": false
   },
   "outputs": [],
   "source": [
    "#Created by: Georgina Hoagland\n",
    "#Created: Aug 29, 2016\n",
    "#Last Modified: Sept 27, 2016\n",
    "\n",
    "#To check: Day counters and calendar conventions\n",
    "#To add: Units\n",
    "\n",
    "from QuantLib import *\n",
    "\n",
    "#Swap rate input\n",
    "\n",
    "#setup global eval date \n",
    "calc_date = Date(27, 9, 2016)\n",
    "Settings.instance().evaluationDate = calc_date\n",
    "\n",
    "ois = {   (1,Days): 0.004,\n",
    "          (1,Weeks): 0.004,\n",
    "          (2,Weeks): 0.004,\n",
    "          (3,Weeks): 0.00417,\n",
    "          (1,Months): 0.004175,\n",
    "          (2,Months): 0.00429,\n",
    "          (3,Months): 0.004366,\n",
    "          (4,Months): 0.004515,\n",
    "          (5,Months): 0.00472,\n",
    "          (6,Months): 0.00485,\n",
    "          (9,Months): 0.00518,\n",
    "          (12,Months): 0.005445,\n",
    "          (18,Months): 0.005801,\n",
    "          (2,Years): 0.006070,\n",
    "          (3,Years): 0.006560,\n",
    "          (4,Years): 0.007010,\n",
    "          (5,Years): 0.007490,\n",
    "          (7,Years): 0.012512,\n",
    "          (10,Years): 0.013925,\n",
    "          (12,Years): 0.014701,\n",
    "          (15,Years): 0.015529,\n",
    "          (20,Years): 0.016385,\n",
    "          (25,Years): 0.016780,\n",
    "          (30,Years): 0.016989,\n",
    "          (40,Years): 0.016995,\n",
    "          (50,Years): 0.017085}\n",
    "\n",
    "#convert to ql Quote objects\n",
    "for n,unit in ois.keys():\n",
    "    ois[(n,unit)] = SimpleQuote(ois[(n,unit)])\n",
    "\n",
    "swaps = { (1,Years): 0.00900,\n",
    "          (2,Years): 0.00975,    \n",
    "          (3,Years): 0.01040,\n",
    "          (4,Years): 0.01099,\n",
    "          (5,Years): 0.01160,\n",
    "          (6,Years): 0.01224,\n",
    "          (7,Years): 0.01284,\n",
    "          (8,Years): 0.01343,\n",
    "          (9,Years): 0.01390,\n",
    "          (10,Years): 0.01438,\n",
    "          (15,Years): 0.01610,\n",
    "          (20,Years): 0.01707,\n",
    "          (25,Years): 0.01752,\n",
    "          (30,Years): 0.01778} # 1 Year = 90bps, etc. \n",
    "\n",
    "\n",
    "#convert swap quotes from floats to Quote objects\n",
    "for (n,unit) in swaps.keys():\n",
    "    swaps[(n,unit)] = SimpleQuote(swaps[(n,unit)])\n"
   ]
  },
  {
   "cell_type": "code",
   "execution_count": 31,
   "metadata": {
    "collapsed": true
   },
   "outputs": [],
   "source": [
    "#Calendar, rules, conventions\n",
    "\n",
    "calendars = [Argentina, Australia, BespokeCalendar, Brazil, Canada, China, \\\n",
    "             CzechRepublic, Denmark, Finland, Germany, HongKong, Hungary, Iceland, \\\n",
    "             India, Indonesia, Israel, Italy, Japan, JointCalendar, Mexico, NewZealand,\\\n",
    "             Norway, NullCalendar, Poland, Romania, Russia, SaudiArabia, Singapore, \\\n",
    "             Slovakia, SouthAfrica, SouthKorea, Sweden, Switzerland, Taiwan, TARGET, \\\n",
    "             Turkey, Ukraine, UnitedKingdom, UnitedStates, WeekendsOnly]\n",
    "\n",
    "bus_day_conventions = [Following, ModifiedFollowing, Preceding, ModifiedPreceding, \\\n",
    "                       Unadjusted,HalfMonthModifiedFollowing]\n",
    "\n",
    "gen_rules = [DateGeneration.Backward, DateGeneration.Forward, DateGeneration.Zero, \\\n",
    "             DateGeneration.ThirdWednesday] "
   ]
  },
  {
   "cell_type": "code",
   "execution_count": 32,
   "metadata": {
    "collapsed": false
   },
   "outputs": [],
   "source": [
    "#Swap info\n",
    "\n",
    "settlementDays = 2\n",
    "    \n",
    "fixedLegNotional = 100 #dollars\n",
    "fixedLegFrequency = Semiannual\n",
    "fixedLegTenor = Period(6, Months)\n",
    "fixedLegAdjustment = ModifiedFollowing\n",
    "fixedLegDayCounter = Thirty360()\n",
    "\n",
    "floatingLegSpread = 0.0 #Libor rate - Treasury security of same maturity\n",
    "floatingLegFrequency = Semiannual\n",
    "floatingLegTenor = Period(6, Months) #Libor 6M\n",
    "floatingLegAdjustment = ModifiedFollowing\n",
    "floatingLegDayCounter = Thirty360()\n",
    "#When changed to Actual360 to correspond with Libor conventions,\\\n",
    "#NPV for maturities that are traded (i.e. 1, 7, 10, 20, 25Y and not 11, 17, 24Y)\\\n",
    "#moved to the e-12 - e-15 range?\n",
    "\n",
    "\n",
    "#use index in from lists to choose calendar, convention, etc.\n",
    "eval_date = calc_date\n",
    "cal = calendars[-6]() #TARGET\n",
    "\n",
    "gen_rule = gen_rules[0] # Backward \n",
    "\n",
    "\n",
    "end_of_month = True\n",
    "settlementDate = cal.advance(eval_date, settlementDays, Days)\n",
    "\n",
    "#Unadjusted calendar for termination purposes\n",
    "termination_cal = calendars[-18]() #NullCalendar\n",
    "termination_convention = bus_day_conventions[4] #Unadjusted\n"
   ]
  },
  {
   "cell_type": "code",
   "execution_count": 33,
   "metadata": {
    "collapsed": false
   },
   "outputs": [],
   "source": [
    "#Schedule\n",
    "\n",
    "#creates dicts with keys of year term and values of termination date/payment schedule \n",
    "termination_date = {}\n",
    "for i in range(1, 31):\n",
    "    termination_date[i] = termination_cal.advance(settlementDate, Period(i, Years), \\\n",
    "                                                  termination_convention)\n",
    "fixedSchedule = {}\n",
    "for i in range(1, 31):\n",
    "    fixedSchedule[i] = Schedule(settlementDate, termination_date[i], fixedLegTenor, cal, \\\n",
    "                                   fixedLegAdjustment, fixedLegAdjustment, gen_rule, \\\n",
    "                                   end_of_month)\n",
    "floatingSchedule = {}\n",
    "for i in range(1, 31):\n",
    "    floatingSchedule[i] = Schedule(settlementDate, termination_date[i], floatingLegTenor, \\\n",
    "                                   cal, floatingLegAdjustment, floatingLegAdjustment, \\\n",
    "                                   gen_rule, end_of_month)"
   ]
  },
  {
   "cell_type": "code",
   "execution_count": 34,
   "metadata": {
    "collapsed": false
   },
   "outputs": [
    {
     "name": "stdout",
     "output_type": "stream",
     "text": [
      "Actual/360 day counter\n",
      "1\n"
     ]
    }
   ],
   "source": [
    "#Bootstrapping \n",
    "\n",
    "#need to change to be able to change currency?\n",
    "\n",
    "# term structure handles\n",
    "discountTermStructure = RelinkableYieldTermStructureHandle()\n",
    "forecastTermStructure = RelinkableYieldTermStructureHandle() \n",
    "# RelinkableHandle<YieldTermStructure>\n",
    "\n",
    "libor6MIndex = USDLibor(Period(6, Months), forecastTermStructure)\n",
    "print libor6MIndex.dayCounter()\n",
    "print libor6MIndex.businessDayConvention()\n",
    "\n",
    "swapHelpers =  [SwapRateHelper(QuoteHandle(swaps[(n,unit)]), Period(n,unit), cal,\\\n",
    "                                     fixedLegFrequency, fixedLegAdjustment, \\\n",
    "                                     fixedLegDayCounter, libor6MIndex)\\\n",
    "                      for (n, unit) in swaps.keys() ]\n",
    "\n",
    "\n",
    "#PiecewiseYieldCurve does not work in python\n",
    "#currently using PiecewiseFlatForward - corresponding to \\\n",
    "#PiecewiseYieldCurve<ForwardRate,BackwardFlat> in C++\n",
    "#check day counter - using fixedLegDayCounter\n",
    "\n",
    "piecewiseYieldCurve = PiecewiseFlatForward(settlementDays, cal, swapHelpers, \\\n",
    "                                           fixedLegDayCounter)"
   ]
  },
  {
   "cell_type": "code",
   "execution_count": 35,
   "metadata": {
    "collapsed": false
   },
   "outputs": [],
   "source": [
    "#Swap additions - linear\n",
    "#uses averages to assign rates to non-existent swap maturities, i.e. 11Y, 12Y, 23Y\n",
    "swapsAdditionsLinear = {}\n",
    "for i in range(11, 31):\n",
    "    if i % 5 != 0:\n",
    "        swapsAdditionsLinear [(i, Years)] = \\\n",
    "                        ((swaps[((i//5 + 1) * 5, Years)].value() \\\n",
    "                          - swaps[((i//5)*5, Years)].value()) \\\n",
    "                          *(i % 5)/5) + swaps[((i//5)*5, Years)].value()\n",
    "for (i, unit) in swapsAdditionsLinear.keys():\n",
    "    swapsAdditionsLinear[(i, unit)] = SimpleQuote(\\\n",
    "                                            swapsAdditionsLinear[(i, unit)])\n",
    "            \n",
    "#both the given swap rates and intermediate values for non-existant maturities        \n",
    "swapsAll = {}\n",
    "for (i, unit) in swaps.keys():\n",
    "    swapsAll[(i, unit)] = swaps[(i, unit)]\n",
    "for (i, unit) in swapsAdditionsLinear.keys():\n",
    "    swapsAll[(i, unit)] = swapsAdditionsLinear[(i, unit)]"
   ]
  },
  {
   "cell_type": "code",
   "execution_count": 36,
   "metadata": {
    "collapsed": false
   },
   "outputs": [
    {
     "name": "stdout",
     "output_type": "stream",
     "text": [
      "1 -0.012213837366\n",
      "2 -0.0260700711295\n",
      "3 -0.0417311728725\n",
      "4 -0.0618323364617\n",
      "5 -0.0800197059262\n",
      "6 -0.0997742361885\n",
      "7 -0.11974985711\n",
      "8 -0.146762292423\n",
      "9 -0.16848699167\n",
      "10 -0.191022740196\n",
      "11 -0.0839635103881\n",
      "12 -0.0468755736261\n",
      "13 -0.0719819839604\n",
      "14 -0.158218797349\n",
      "15 -0.307282502135\n",
      "16 -0.261875570073\n",
      "17 -0.248039779373\n",
      "18 -0.267670221506\n",
      "19 -0.323345732203\n",
      "20 -0.415406854711\n",
      "21 -0.40303061652\n",
      "22 -0.406332847847\n",
      "23 -0.42488470709\n",
      "24 -0.460810209346\n",
      "25 -0.509235529237\n",
      "26 -0.508351725629\n",
      "27 -0.515361166563\n",
      "28 -0.534254109521\n",
      "29 -0.556835025591\n",
      "30 -0.588789718216\n"
     ]
    }
   ],
   "source": [
    "#Swap Pricing\n",
    "\n",
    "swapTypes = [VanillaSwap.Payer, VanillaSwap.Receiver]\n",
    "swapType = swapTypes[0]\n",
    "\n",
    "discountTermStructure.linkTo(piecewiseYieldCurve)\n",
    "forecastTermStructure.linkTo(piecewiseYieldCurve)\n",
    "swapEngine = DiscountingSwapEngine(discountTermStructure)\n",
    "\n",
    "    \n",
    "vanillaSwaps = {}\n",
    "for i in range(1, 31):\n",
    "    vanillaSwaps[(i, Years)] = VanillaSwap(swapType, fixedLegNotional, fixedSchedule[i],\\\n",
    "                        swapsAll[(i, Years)].value(), fixedLegDayCounter, \\\n",
    "                        floatingSchedule[i], libor6MIndex, floatingLegSpread,\\\n",
    "                        floatingLegDayCounter)\n",
    "    \n",
    "    vanillaSwaps[(i, Years)].setPricingEngine(swapEngine)\n",
    "    \n",
    "swapsNPV = {}\n",
    "for i in range(1, 31):\n",
    "    swapsNPV[(i, Years)] = vanillaSwaps[(i, Years)].NPV()\n",
    "    print i, swapsNPV[(i, Years)]"
   ]
  },
  {
   "cell_type": "code",
   "execution_count": 20,
   "metadata": {
    "collapsed": false
   },
   "outputs": [],
   "source": [
    "#Swaption Volatility\n",
    "\n",
    "#using constant value of 40%\n",
    "volatilityFlat = 0.40\n",
    "\n",
    "volatilityStructure = ConstantSwaptionVolatility(settlementDays, cal,\\\n",
    "                                                     fixedLegAdjustment, volatilityFlat, \\\n",
    "                                                     fixedLegDayCounter)\n",
    "# default: VolatilityType type=ShiftedLognormal, const Real shift=0.0\n",
    "\n",
    "volatilityStructureHandle = SwaptionVolatilityStructureHandle(volatilityStructure)\n"
   ]
  },
  {
   "cell_type": "code",
   "execution_count": 21,
   "metadata": {
    "collapsed": false
   },
   "outputs": [],
   "source": [
    "#Swaption Inputs\n",
    "\n",
    "swaptionMaturity = Period(3, Months)\n",
    "swaptionExpiry = cal.advance(settlementDate, swaptionMaturity, floatingLegAdjustment)\n",
    "settlementType = Settlement.Physical\n",
    "\n",
    "#European\n",
    "swaptionExercise = EuropeanExercise(swaptionExpiry)"
   ]
  },
  {
   "cell_type": "code",
   "execution_count": 22,
   "metadata": {
    "collapsed": false
   },
   "outputs": [],
   "source": [
    "#Swaption Object\n",
    "\n",
    "swaptionPricingEngine = BlackSwaptionEngine(forecastTermStructure, volatilityStructureHandle)\n",
    "\n",
    "swaptions = {}\n",
    "for i in range(1, 31):\n",
    "    swaptions [(i, Years)] = Swaption(vanillaSwaps[(i, Years)], swaptionExercise, \\\n",
    "                                      settlementType)\n",
    "    \n",
    "    swaptions[(i, Years)].setPricingEngine(swaptionPricingEngine)"
   ]
  },
  {
   "cell_type": "code",
   "execution_count": 23,
   "metadata": {
    "collapsed": false,
    "scrolled": true
   },
   "outputs": [
    {
     "name": "stdout",
     "output_type": "stream",
     "text": [
      "1 0.0651949835941\n",
      "2 0.140546633181\n",
      "3 0.223653550294\n",
      "4 0.312041724298\n",
      "5 0.409320494605\n",
      "6 0.515009893238\n",
      "7 0.626283312415\n",
      "8 0.741222202908\n",
      "9 0.857115444478\n",
      "10 0.978610354348\n",
      "11 1.15979929086\n",
      "12 1.30722501485\n",
      "13 1.42619885294\n",
      "14 1.51453785665\n",
      "15 1.57436837183\n",
      "16 1.71948165468\n",
      "17 1.84729514914\n",
      "18 1.95805680411\n",
      "19 2.05154055592\n",
      "20 2.12642591686\n",
      "21 2.2417399356\n",
      "22 2.34655312035\n",
      "23 2.44269592484\n",
      "24 2.5290326522\n",
      "25 2.60898200958\n",
      "26 2.70642563441\n",
      "27 2.79912673263\n",
      "28 2.88306187511\n",
      "29 2.96417906981\n",
      "30 3.04012066554\n"
     ]
    }
   ],
   "source": [
    "#Swaption Pricing\n",
    "\n",
    "swaptionsNPV = {}\n",
    "for maturity in swaptions.keys():\n",
    "    swaptionsNPV[maturity] = swaptions[maturity].NPV()\n",
    "    \n",
    "for i in range(1, 31):\n",
    "    print i, swaptionsNPV[(i, Years)]"
   ]
  },
  {
   "cell_type": "code",
   "execution_count": 24,
   "metadata": {
    "collapsed": false
   },
   "outputs": [],
   "source": [
    "#Implied Volatility\n",
    "\n",
    "swaptionHelpers = {}\n",
    "impliedVols = {}\n",
    "for i in range(1, 31):\n",
    "    swaptionHelpers[(i, Years)] = SwaptionHelper(swaptionMaturity, Period(i, Years), \\\n",
    "                                  QuoteHandle(SimpleQuote(volatilityFlat)), \\\n",
    "                                  libor6MIndex, fixedLegTenor, fixedLegDayCounter, \\\n",
    "                                  floatingLegDayCounter, forecastTermStructure)\n",
    "\n",
    "    swaptionHelpers[(i, Years)].setPricingEngine(swaptionPricingEngine)\n",
    "\n",
    "\n",
    "#    impliedVols[(i, unit)] = swaptionHelpers[(i, unit)].impliedVolatility(\\\n",
    "#                                                            swaptionsNPV[(i, unit)], \\\n",
    "#                                                            1e-7, 50, 0.0, 10.0)\\\n",
    "                             \n",
    "#values my be causing runtime errors in the implied vol value                "
   ]
  }
 ],
 "metadata": {
  "celltoolbar": "Edit Metadata",
  "kernelspec": {
   "display_name": "Python 2",
   "language": "python",
   "name": "python2"
  },
  "language_info": {
   "codemirror_mode": {
    "name": "ipython",
    "version": 2
   },
   "file_extension": ".py",
   "mimetype": "text/x-python",
   "name": "python",
   "nbconvert_exporter": "python",
   "pygments_lexer": "ipython2",
   "version": "2.7.12"
  }
 },
 "nbformat": 4,
 "nbformat_minor": 0
}
