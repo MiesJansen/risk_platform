{
 "cells": [
  {
   "cell_type": "code",
   "execution_count": 1,
   "metadata": {
    "collapsed": true
   },
   "outputs": [],
   "source": [
    "#Created by: Georgina Hoagland\n",
    "#Created: Aug 29, 2016\n",
    "#Last Modified: October 3, 2016\n",
    "\n",
    "#To check: Day counters and calendar conventions\n",
    "#To add: Units\n",
    "\n",
    "from QuantLib import *\n",
    "\n",
    "#setup global eval date \n",
    "calc_date = Date(29, 9, 2016)\n",
    "Settings.instance().evaluationDate = calc_date\n",
    "\n",
    "#Calendar, rules, conventions\n",
    "\n",
    "calendars = [Argentina, Australia, BespokeCalendar, Brazil, Canada, China, \\\n",
    "             CzechRepublic, Denmark, Finland, Germany, HongKong, Hungary, Iceland, \\\n",
    "             India, Indonesia, Israel, Italy, Japan, JointCalendar, Mexico, NewZealand,\\\n",
    "             Norway, NullCalendar, Poland, Romania, Russia, SaudiArabia, Singapore, \\\n",
    "             Slovakia, SouthAfrica, SouthKorea, Sweden, Switzerland, Taiwan, TARGET, \\\n",
    "             Turkey, Ukraine, UnitedKingdom, UnitedStates, WeekendsOnly]\n",
    "\n",
    "bus_day_conventions = [Following, ModifiedFollowing, Preceding, ModifiedPreceding, \\\n",
    "                       Unadjusted,HalfMonthModifiedFollowing]\n",
    "\n",
    "gen_rules = [DateGeneration.Backward, DateGeneration.Forward, DateGeneration.Zero, \\\n",
    "             DateGeneration.ThirdWednesday] \n",
    "\n"
   ]
  },
  {
   "cell_type": "code",
   "execution_count": 2,
   "metadata": {
    "collapsed": false
   },
   "outputs": [],
   "source": [
    "#Swap info\n",
    "\n",
    "settlementDays = 2\n",
    "    \n",
    "fixedLegNotional = 100 #dollars\n",
    "fixedLegTenor = Period(6, Months)\n",
    "fixedLegFrequency = Semiannual\n",
    "fixedLegAdjustment = ModifiedFollowing\n",
    "fixedLegDayCounter = Thirty360()\n",
    "\n",
    "floatingLegSpread = 0.0 #Libor rate - Treasury security of same maturity\n",
    "floatingLegTenor = Period(6, Months) #Libor 6M\n",
    "floatingLegFrequency = Semiannual\n",
    "#floatingLegAdjustment = ModifiedFollowing\n",
    "#floatingLegDayCounter = Thirty360()\n",
    "#When changed to Actual360 to correspond with Libor conventions,\\\n",
    "#NPV for maturities that are traded (i.e. 1, 7, 10, 20, 25Y and not 11, 17, 24Y)\\\n",
    "#moved to the e-12 - e-15 range?\n",
    "\n",
    "# term structure handles\n",
    "discountTermStructure = RelinkableYieldTermStructureHandle()\n",
    "forwardTermStructure = RelinkableYieldTermStructureHandle() \n",
    "# RelinkableHandle<YieldTermStructure>\n",
    "\n",
    "#need to change to be able to change currency?\n",
    "liborIndex = USDLibor(floatingLegTenor, forwardTermStructure)\n",
    "\n",
    "floatingLegDayCounter = liborIndex.dayCounter()\n",
    "floatingLegAdjustment = liborIndex.businessDayConvention()\n",
    "\n",
    "\n",
    "#use index in from lists to choose calendar, convention, etc.\n",
    "eval_date = calc_date\n",
    "cal = calendars[-6]() #TARGET\n",
    "\n",
    "gen_rule = gen_rules[0] # Backward \n",
    "end_of_month = True\n",
    "\n",
    "settlementDate = cal.advance(eval_date, settlementDays, Days, floatingLegAdjustment)\n",
    "\n",
    "#Unadjusted calendar for termination purposes\n",
    "termination_cal = calendars[-18]() #NullCalendar\n",
    "termination_convention = bus_day_conventions[4] #Unadjusted"
   ]
  },
  {
   "cell_type": "code",
   "execution_count": 3,
   "metadata": {
    "collapsed": false
   },
   "outputs": [],
   "source": [
    "#Inputs\n",
    "\n",
    "ois = {   (1,Days): 0.004,\n",
    "          (1,Weeks): 0.004,\n",
    "          (2,Weeks): 0.004,\n",
    "          (3,Weeks): 0.00417,\n",
    "          (1,Months): 0.004175,\n",
    "          (2,Months): 0.00429,\n",
    "          (3,Months): 0.004366,\n",
    "          (4,Months): 0.004515,\n",
    "          (5,Months): 0.00472,\n",
    "          (6,Months): 0.00485,\n",
    "          (9,Months): 0.00518,\n",
    "          (12,Months): 0.005445,\n",
    "          (18,Months): 0.005801,\n",
    "          (2,Years): 0.006070,\n",
    "          (3,Years): 0.006560,\n",
    "          (4,Years): 0.007010,\n",
    "          (5,Years): 0.007490,\n",
    "          (7,Years): 0.012512,\n",
    "          (10,Years): 0.013925,\n",
    "          (12,Years): 0.014701,\n",
    "          (15,Years): 0.015529,\n",
    "          (20,Years): 0.016385,\n",
    "          (25,Years): 0.016780,\n",
    "          (30,Years): 0.016989,\n",
    "          (40,Years): 0.016995,\n",
    "          (50,Years): 0.017085}\n",
    "\n",
    "#convert to ql Quote objects\n",
    "for n,unit in ois.keys():\n",
    "    ois[(n,unit)] = SimpleQuote(ois[(n,unit)])\n",
    "\n",
    "\n",
    "swaps = { (1,Years): 0.00900,\n",
    "          (2,Years): 0.00975,    \n",
    "          (3,Years): 0.01040,\n",
    "          (4,Years): 0.01099,\n",
    "          (5,Years): 0.01160,\n",
    "          (6,Years): 0.01224,\n",
    "          (7,Years): 0.01284,\n",
    "          (8,Years): 0.01343,\n",
    "          (9,Years): 0.01390,\n",
    "          (10,Years): 0.01438,\n",
    "          (15,Years): 0.01610,\n",
    "          (20,Years): 0.01707,\n",
    "          (25,Years): 0.01752,\n",
    "          (30,Years): 0.01778} # 1 Year = 90bps, etc. \n",
    "\n",
    "\n",
    "#convert swap quotes from floats to Quote objects\n",
    "for (n,unit) in swaps.keys():\n",
    "    swaps[(n,unit)] = SimpleQuote(swaps[(n,unit)])\n"
   ]
  },
  {
   "cell_type": "code",
   "execution_count": 4,
   "metadata": {
    "collapsed": true
   },
   "outputs": [],
   "source": [
    "#Schedule\n",
    "\n",
    "#creates dicts with keys of year term and values of termination date/payment schedule \n",
    "termination_date = {}\n",
    "for i in range(1, 31):\n",
    "    termination_date[i] = termination_cal.advance(settlementDate, Period(i, Years), \\\n",
    "                                                  termination_convention)\n",
    "fixedSchedule = {}\n",
    "for i in range(1, 31):\n",
    "    fixedSchedule[i] = Schedule(settlementDate, termination_date[i], fixedLegTenor, cal, \\\n",
    "                                   fixedLegAdjustment, fixedLegAdjustment, gen_rule, \\\n",
    "                                   end_of_month)\n",
    "floatingSchedule = {}\n",
    "for i in range(1, 31):\n",
    "    floatingSchedule[i] = Schedule(settlementDate, termination_date[i], floatingLegTenor, \\\n",
    "                                   cal, floatingLegAdjustment, floatingLegAdjustment, \\\n",
    "                                   gen_rule, end_of_month)"
   ]
  },
  {
   "cell_type": "code",
   "execution_count": 6,
   "metadata": {
    "collapsed": false
   },
   "outputs": [
    {
     "ename": "NotImplementedError",
     "evalue": "Wrong number or type of arguments for overloaded function 'new_OISRateHelper'.\n  Possible C/C++ prototypes are:\n    OISRateHelperPtr::OISRateHelperPtr(Natural,Period const &,Handle< Quote > const &,OvernightIndexPtr const &,Handle< YieldTermStructure > const &)\n    OISRateHelperPtr::OISRateHelperPtr(Natural,Period const &,Handle< Quote > const &,OvernightIndexPtr const &)\n",
     "output_type": "error",
     "traceback": [
      "\u001b[1;31m\u001b[0m",
      "\u001b[1;31mNotImplementedError\u001b[0mTraceback (most recent call last)",
      "\u001b[1;32m<ipython-input-6-95ebcd78bacb>\u001b[0m in \u001b[0;36m<module>\u001b[1;34m()\u001b[0m\n\u001b[0;32m      3\u001b[0m \u001b[0mswapHelpers\u001b[0m \u001b[1;33m=\u001b[0m  \u001b[1;33m[\u001b[0m\u001b[0mSwapRateHelper\u001b[0m\u001b[1;33m(\u001b[0m\u001b[0mQuoteHandle\u001b[0m\u001b[1;33m(\u001b[0m\u001b[0mswaps\u001b[0m\u001b[1;33m[\u001b[0m\u001b[1;33m(\u001b[0m\u001b[0mn\u001b[0m\u001b[1;33m,\u001b[0m\u001b[0munit\u001b[0m\u001b[1;33m)\u001b[0m\u001b[1;33m]\u001b[0m\u001b[1;33m)\u001b[0m\u001b[1;33m,\u001b[0m \u001b[0mPeriod\u001b[0m\u001b[1;33m(\u001b[0m\u001b[0mn\u001b[0m\u001b[1;33m,\u001b[0m\u001b[0munit\u001b[0m\u001b[1;33m)\u001b[0m\u001b[1;33m,\u001b[0m \u001b[0mcal\u001b[0m\u001b[1;33m,\u001b[0m                                     \u001b[0mfixedLegFrequency\u001b[0m\u001b[1;33m,\u001b[0m \u001b[0mfixedLegAdjustment\u001b[0m\u001b[1;33m,\u001b[0m                                      \u001b[0mfixedLegDayCounter\u001b[0m\u001b[1;33m,\u001b[0m \u001b[0mliborIndex\u001b[0m\u001b[1;33m)\u001b[0m                      \u001b[1;32mfor\u001b[0m \u001b[1;33m(\u001b[0m\u001b[0mn\u001b[0m\u001b[1;33m,\u001b[0m \u001b[0munit\u001b[0m\u001b[1;33m)\u001b[0m \u001b[1;32min\u001b[0m \u001b[0mswaps\u001b[0m\u001b[1;33m.\u001b[0m\u001b[0mkeys\u001b[0m\u001b[1;33m(\u001b[0m\u001b[1;33m)\u001b[0m \u001b[1;33m]\u001b[0m\u001b[1;33m\u001b[0m\u001b[0m\n\u001b[0;32m      4\u001b[0m \u001b[1;33m\u001b[0m\u001b[0m\n\u001b[1;32m----> 5\u001b[1;33m \u001b[0moisHelpers\u001b[0m \u001b[1;33m=\u001b[0m \u001b[1;33m[\u001b[0m\u001b[0mOISRateHelper\u001b[0m\u001b[1;33m(\u001b[0m\u001b[0msettlementDays\u001b[0m\u001b[1;33m,\u001b[0m \u001b[0mPeriod\u001b[0m \u001b[1;33m(\u001b[0m\u001b[0mn\u001b[0m\u001b[1;33m,\u001b[0m \u001b[0munit\u001b[0m\u001b[1;33m)\u001b[0m\u001b[1;33m,\u001b[0m \u001b[0mQuoteHandle\u001b[0m\u001b[1;33m(\u001b[0m\u001b[0mois\u001b[0m\u001b[1;33m[\u001b[0m\u001b[1;33m(\u001b[0m\u001b[0mn\u001b[0m\u001b[1;33m,\u001b[0m \u001b[0munit\u001b[0m\u001b[1;33m)\u001b[0m\u001b[1;33m]\u001b[0m\u001b[1;33m)\u001b[0m\u001b[1;33m,\u001b[0m                             \u001b[0mliborIndex\u001b[0m\u001b[1;33m)\u001b[0m                     \u001b[1;32mfor\u001b[0m \u001b[1;33m(\u001b[0m\u001b[0mn\u001b[0m\u001b[1;33m,\u001b[0m \u001b[0munit\u001b[0m\u001b[1;33m)\u001b[0m \u001b[1;32min\u001b[0m \u001b[0mois\u001b[0m\u001b[1;33m.\u001b[0m\u001b[0mkeys\u001b[0m\u001b[1;33m(\u001b[0m\u001b[1;33m)\u001b[0m\u001b[1;33m]\u001b[0m\u001b[1;33m\u001b[0m\u001b[0m\n\u001b[0m\u001b[0;32m      6\u001b[0m \u001b[1;33m\u001b[0m\u001b[0m\n\u001b[0;32m      7\u001b[0m \u001b[1;31m#PiecewiseYieldCurve does not work in python\u001b[0m\u001b[1;33m\u001b[0m\u001b[1;33m\u001b[0m\u001b[0m\n",
      "\u001b[1;32m/usr/lib/python2.7/site-packages/QuantLib/QuantLib.pyc\u001b[0m in \u001b[0;36m__init__\u001b[1;34m(self, *args)\u001b[0m\n\u001b[0;32m  14938\u001b[0m \u001b[1;33m\u001b[0m\u001b[0m\n\u001b[0;32m  14939\u001b[0m     \u001b[1;32mdef\u001b[0m \u001b[0m__init__\u001b[0m\u001b[1;33m(\u001b[0m\u001b[0mself\u001b[0m\u001b[1;33m,\u001b[0m \u001b[1;33m*\u001b[0m\u001b[0margs\u001b[0m\u001b[1;33m)\u001b[0m\u001b[1;33m:\u001b[0m\u001b[1;33m\u001b[0m\u001b[0m\n\u001b[1;32m> 14940\u001b[1;33m         \u001b[0mthis\u001b[0m \u001b[1;33m=\u001b[0m \u001b[0m_QuantLib\u001b[0m\u001b[1;33m.\u001b[0m\u001b[0mnew_OISRateHelper\u001b[0m\u001b[1;33m(\u001b[0m\u001b[1;33m*\u001b[0m\u001b[0margs\u001b[0m\u001b[1;33m)\u001b[0m\u001b[1;33m\u001b[0m\u001b[0m\n\u001b[0m\u001b[0;32m  14941\u001b[0m         \u001b[1;32mtry\u001b[0m\u001b[1;33m:\u001b[0m\u001b[1;33m\u001b[0m\u001b[0m\n\u001b[0;32m  14942\u001b[0m             \u001b[0mself\u001b[0m\u001b[1;33m.\u001b[0m\u001b[0mthis\u001b[0m\u001b[1;33m.\u001b[0m\u001b[0mappend\u001b[0m\u001b[1;33m(\u001b[0m\u001b[0mthis\u001b[0m\u001b[1;33m)\u001b[0m\u001b[1;33m\u001b[0m\u001b[0m\n",
      "\u001b[1;31mNotImplementedError\u001b[0m: Wrong number or type of arguments for overloaded function 'new_OISRateHelper'.\n  Possible C/C++ prototypes are:\n    OISRateHelperPtr::OISRateHelperPtr(Natural,Period const &,Handle< Quote > const &,OvernightIndexPtr const &,Handle< YieldTermStructure > const &)\n    OISRateHelperPtr::OISRateHelperPtr(Natural,Period const &,Handle< Quote > const &,OvernightIndexPtr const &)\n"
     ]
    }
   ],
   "source": [
    "#Bootstrapping \n",
    "\n",
    "swapHelpers =  [SwapRateHelper(QuoteHandle(swaps[(n,unit)]), Period(n,unit), cal,\\\n",
    "                                     fixedLegFrequency, fixedLegAdjustment, \\\n",
    "                                     fixedLegDayCounter, liborIndex)\\\n",
    "                      for (n, unit) in swaps.keys() ]\n",
    "\n",
    "oisHelpers = [OISRateHelper(settlementDays, Period (n, unit), QuoteHandle(ois[(n, unit)]), \\\n",
    "                            liborIndex)\\\n",
    "                     for (n, unit) in ois.keys()]\n",
    "\n",
    "#PiecewiseYieldCurve does not work in python\n",
    "#currently using PiecewiseFlatForward - corresponding to \\\n",
    "#PiecewiseYieldCurve<ForwardRate,BackwardFlat> in C++\n",
    "#check day counter - using fixedLegDayCounter\n",
    "\n",
    "piecewiseYieldCurve = PiecewiseFlatForward(settlementDays, cal, swapHelpers, \\\n",
    "                                           fixedLegDayCounter)\n",
    "oisCurve = PiecewiseFlatForward(settlementDays, cal, oisHelpers, fixedLegDayCounter)"
   ]
  },
  {
   "cell_type": "code",
   "execution_count": 136,
   "metadata": {
    "collapsed": true
   },
   "outputs": [],
   "source": [
    "#Swap additions - linear\n",
    "#uses averages to assign rates to non-existent swap maturities, i.e. 11Y, 12Y, 23Y\n",
    "swapsAdditionsLinear = {}\n",
    "for i in range(11, 31):\n",
    "    if i % 5 != 0:\n",
    "        swapsAdditionsLinear [(i, Years)] = \\\n",
    "                        ((swaps[((i//5 + 1) * 5, Years)].value() \\\n",
    "                          - swaps[((i//5)*5, Years)].value()) \\\n",
    "                          *(i % 5)/5) + swaps[((i//5)*5, Years)].value()\n",
    "for (i, unit) in swapsAdditionsLinear.keys():\n",
    "    swapsAdditionsLinear[(i, unit)] = SimpleQuote(\\\n",
    "                                            swapsAdditionsLinear[(i, unit)])\n",
    "            \n",
    "#both the given swap rates and intermediate values for non-existant maturities        \n",
    "swapsAll = {}\n",
    "for (i, unit) in swaps.keys():\n",
    "    swapsAll[(i, unit)] = swaps[(i, unit)]\n",
    "for (i, unit) in swapsAdditionsLinear.keys():\n",
    "    swapsAll[(i, unit)] = swapsAdditionsLinear[(i, unit)]"
   ]
  },
  {
   "cell_type": "code",
   "execution_count": 139,
   "metadata": {
    "collapsed": false
   },
   "outputs": [
    {
     "name": "stdout",
     "output_type": "stream",
     "text": [
      "1 -0.347397179064\n",
      "2 -0.715941220168\n",
      "3 -1.11596937715\n",
      "4 -1.53582961102\n",
      "5 -1.97197635369\n",
      "6 -0.989367109786\n",
      "7 -0.128339508396\n",
      "8 -0.142653692106\n",
      "9 -0.166516454578\n",
      "10 -0.286679683581\n",
      "11 -0.226501910187\n",
      "12 -0.231697217471\n",
      "13 -0.276907667479\n",
      "14 -0.384661309699\n",
      "15 -0.553221481746\n",
      "16 -0.55185259551\n",
      "17 -0.586893636475\n",
      "18 -0.655155536251\n",
      "19 -0.756439795318\n",
      "20 -0.889830326108\n",
      "21 -0.916783511526\n",
      "22 -0.959808064042\n",
      "23 -1.01733265657\n",
      "24 -1.08867526708\n",
      "25 -1.17380215305\n",
      "26 -1.21747502214\n",
      "27 -1.26856302933\n",
      "28 -1.32792939844\n",
      "29 -1.39431218444\n",
      "30 -1.46787325335\n"
     ]
    }
   ],
   "source": [
    "#Swap Pricing\n",
    "\n",
    "swapTypes = [VanillaSwap.Payer, VanillaSwap.Receiver]\n",
    "swapType = swapTypes[0]\n",
    "\n",
    "#discountTermStructure.linkTo(piecewiseYieldCurve)\n",
    "#forwardTermStructure.linkTo(piecewiseYieldCurve)\n",
    "discountTermStructure.linkTo(oisCurve)\n",
    "forwardTermStructure.linkTo(oisCurve)\n",
    "swapEngine = DiscountingSwapEngine(discountTermStructure)\n",
    "\n",
    "    \n",
    "vanillaSwaps = {}\n",
    "for i in range(1, 31):\n",
    "    vanillaSwaps[(i, Years)] = VanillaSwap(swapType, fixedLegNotional, fixedSchedule[i],\\\n",
    "                        swapsAll[(i, Years)].value(), fixedLegDayCounter, \\\n",
    "                        floatingSchedule[i], liborIndex, floatingLegSpread,\\\n",
    "                        floatingLegDayCounter)\n",
    "    \n",
    "    vanillaSwaps[(i, Years)].setPricingEngine(swapEngine)\n",
    "    \n",
    "swapsNPV = {}\n",
    "for i in range(1, 31):\n",
    "    swapsNPV[(i, Years)] = vanillaSwaps[(i, Years)].NPV()\n",
    "    print i, swapsNPV[(i, Years)]"
   ]
  },
  {
   "cell_type": "code",
   "execution_count": 140,
   "metadata": {
    "collapsed": true
   },
   "outputs": [],
   "source": [
    "#Swaption Volatility\n",
    "\n",
    "#using constant value of 40%\n",
    "volatilityFlat = 0.40\n",
    "\n",
    "volatilityStructure = ConstantSwaptionVolatility(settlementDays, cal,\\\n",
    "                                                     fixedLegAdjustment, volatilityFlat, \\\n",
    "                                                     fixedLegDayCounter)\n",
    "# default: VolatilityType type=ShiftedLognormal, const Real shift=0.0\n",
    "\n",
    "volatilityStructureHandle = SwaptionVolatilityStructureHandle(volatilityStructure)\n"
   ]
  },
  {
   "cell_type": "code",
   "execution_count": 141,
   "metadata": {
    "collapsed": true
   },
   "outputs": [],
   "source": [
    "#Swaption Inputs\n",
    "\n",
    "swaptionMaturity = Period(3, Months)\n",
    "swaptionExpiry = cal.advance(settlementDate, swaptionMaturity, floatingLegAdjustment)\n",
    "settlementType = Settlement.Physical\n",
    "\n",
    "#European\n",
    "swaptionExercise = EuropeanExercise(swaptionExpiry)"
   ]
  },
  {
   "cell_type": "code",
   "execution_count": 142,
   "metadata": {
    "collapsed": true
   },
   "outputs": [],
   "source": [
    "#Swaption Object\n",
    "\n",
    "swaptionPricingEngine = BlackSwaptionEngine(forwardTermStructure, volatilityStructureHandle)\n",
    "\n",
    "swaptions = {}\n",
    "for i in range(1, 31):\n",
    "    swaptions [(i, Years)] = Swaption(vanillaSwaps[(i, Years)], swaptionExercise, \\\n",
    "                                      settlementType)\n",
    "    \n",
    "    swaptions[(i, Years)].setPricingEngine(swaptionPricingEngine)"
   ]
  },
  {
   "cell_type": "code",
   "execution_count": 143,
   "metadata": {
    "collapsed": false
   },
   "outputs": [
    {
     "name": "stdout",
     "output_type": "stream",
     "text": [
      "1 0.000325303719317\n",
      "2 0.00109244019402\n",
      "3 0.00211805840285\n",
      "4 0.00354041905414\n",
      "5 0.00553264778379\n",
      "6 0.175939102676\n",
      "7 0.625195574045\n",
      "8 0.745902263811\n",
      "9 0.860269035704\n",
      "10 0.932199809793\n",
      "11 1.08784084815\n",
      "12 1.21342751064\n",
      "13 1.32145889727\n",
      "14 1.40049741091\n",
      "15 1.45264729278\n",
      "16 1.57431001786\n",
      "17 1.67798983017\n",
      "18 1.76601706111\n",
      "19 1.83841051674\n",
      "20 1.89598400312\n",
      "21 1.99094993359\n",
      "22 2.07663615628\n",
      "23 2.15459983915\n",
      "24 2.22546628871\n",
      "25 2.28907051549\n",
      "26 2.36528111652\n",
      "27 2.43735676484\n",
      "28 2.50348753863\n",
      "29 2.5657391514\n",
      "30 2.62360039193\n"
     ]
    }
   ],
   "source": [
    "#Swaption Pricing\n",
    "\n",
    "swaptionsNPV = {}\n",
    "for maturity in swaptions.keys():\n",
    "    swaptionsNPV[maturity] = swaptions[maturity].NPV()\n",
    "    \n",
    "for i in range(1, 31):\n",
    "    print i, swaptionsNPV[(i, Years)]\n"
   ]
  },
  {
   "cell_type": "code",
   "execution_count": 144,
   "metadata": {
    "collapsed": false
   },
   "outputs": [],
   "source": [
    "#Implied Volatility\n",
    "\n",
    "swaptionHelpers = {}\n",
    "impliedVols = {}\n",
    "for i in range(1, 31):\n",
    "    swaptionHelpers[(i, Years)] = SwaptionHelper(swaptionMaturity, Period(i, Years), \\\n",
    "                                  QuoteHandle(SimpleQuote(volatilityFlat)), \\\n",
    "                                  liborIndex, fixedLegTenor, fixedLegDayCounter, \\\n",
    "                                  floatingLegDayCounter, forwardTermStructure)\n",
    "\n",
    "    swaptionHelpers[(i, Years)].setPricingEngine(swaptionPricingEngine)\n",
    "\n",
    "#    impliedVols[(i, unit)] = swaptionHelpers[(i, unit)].impliedVolatility(\\\n",
    "#                                                            swaptionsNPV[(i, unit)], \\\n",
    "#                                                            1e-7, 50, 0.0, 10.0)\\\n",
    "                             \n",
    "#input values my be causing runtime errors in the implied vol value                "
   ]
  },
  {
   "cell_type": "code",
   "execution_count": null,
   "metadata": {
    "collapsed": true
   },
   "outputs": [],
   "source": []
  }
 ],
 "metadata": {
  "celltoolbar": "Edit Metadata",
  "kernelspec": {
   "display_name": "Python 2",
   "language": "python",
   "name": "python2"
  },
  "language_info": {
   "codemirror_mode": {
    "name": "ipython",
    "version": 2
   },
   "file_extension": ".py",
   "mimetype": "text/x-python",
   "name": "python",
   "nbconvert_exporter": "python",
   "pygments_lexer": "ipython2",
   "version": "2.7.12"
  }
 },
 "nbformat": 4,
 "nbformat_minor": 0
}
