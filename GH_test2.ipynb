{
 "cells": [
  {
   "cell_type": "code",
   "execution_count": 1,
   "metadata": {
    "collapsed": true
   },
   "outputs": [],
   "source": [
    "#Created by: Georgina Hoagland\n",
    "#Created: Aug 29, 2016\n",
    "#Last Modified: October 20, 2016\n",
    "\n",
    "#To check: Day counters & consistency\n",
    "#To add: Units\n",
    "\n",
    "from QuantLib import *\n",
    "\n",
    "#setup global eval date \n",
    "calc_date = Date(20, 10, 2016)\n",
    "Settings.instance().evaluationDate = calc_date\n",
    "\n",
    "#Calendar, rules, conventions\n",
    "\n",
    "calendars = [Argentina, Australia, BespokeCalendar, Brazil, Canada, China, \\\n",
    "             CzechRepublic, Denmark, Finland, Germany, HongKong, Hungary, Iceland, \\\n",
    "             India, Indonesia, Israel, Italy, Japan, JointCalendar, Mexico, NewZealand,\\\n",
    "             Norway, NullCalendar, Poland, Romania, Russia, SaudiArabia, Singapore, \\\n",
    "             Slovakia, SouthAfrica, SouthKorea, Sweden, Switzerland, Taiwan, TARGET, \\\n",
    "             Turkey, Ukraine, UnitedKingdom, UnitedStates, WeekendsOnly]\n",
    "\n",
    "bus_day_conventions = [Following, ModifiedFollowing, Preceding, ModifiedPreceding, \\\n",
    "                       Unadjusted,HalfMonthModifiedFollowing]\n",
    "\n",
    "gen_rules = [DateGeneration.Backward, DateGeneration.Forward, DateGeneration.Zero, \\\n",
    "             DateGeneration.ThirdWednesday] \n",
    "\n"
   ]
  },
  {
   "cell_type": "code",
   "execution_count": 13,
   "metadata": {
    "collapsed": false
   },
   "outputs": [],
   "source": [
    "#Swap info\n",
    "\n",
    "settlementDays = 2\n",
    "    \n",
    "fixedLegNotional = 100 #dollars\n",
    "fixedLegTenor = Period(6, Months)\n",
    "fixedLegFrequency = Semiannual\n",
    "fixedLegAdjustment = ModifiedFollowing\n",
    "fixedLegDayCounter = Thirty360()\n",
    "\n",
    "floatingLegSpread = 0.0 #Libor rate - Treasury security of same maturity\n",
    "floatingLegTenor = Period(6, Months) #Libor 6M\n",
    "floatingLegFrequency = Semiannual\n",
    "\n",
    "#these are created using the index conventions \n",
    "#floatingLegAdjustment = ModifiedFollowing\n",
    "#floatingLegDayCounter = Thirty360() \n",
    "\n",
    "# term structure handles\n",
    "discountTermStructure = RelinkableYieldTermStructureHandle()\n",
    "forwardTermStructure = RelinkableYieldTermStructureHandle() \n",
    "# RelinkableHandle<YieldTermStructure>\n",
    "\n",
    "#need to change to be able to change currency?\n",
    "liborIndex = USDLibor(floatingLegTenor, discountTermStructure)\n",
    "\n",
    "floatingLegDayCounter = liborIndex.dayCounter()\n",
    "floatingLegAdjustment = liborIndex.businessDayConvention()\n",
    "\n",
    "\n",
    "#use index in from lists to choose calendar, convention, etc.\n",
    "eval_date = calc_date\n",
    "cal = calendars[-6]() #TARGET\n",
    "\n",
    "gen_rule = gen_rules[0] # Backward \n",
    "end_of_month = True\n",
    "\n",
    "settlementDate = cal.advance(eval_date, settlementDays, Days, floatingLegAdjustment)\n",
    "\n",
    "#Unadjusted calendar for termination purposes\n",
    "termination_cal = calendars[-18]() #NullCalendar\n",
    "termination_convention = bus_day_conventions[4] #Unadjusted"
   ]
  },
  {
   "cell_type": "code",
   "execution_count": 14,
   "metadata": {
    "collapsed": false
   },
   "outputs": [],
   "source": [
    "#Inputs\n",
    "\n",
    "ois = {   (1,Days): 0.004,\n",
    "          (1,Weeks): 0.004,\n",
    "          (2,Weeks): 0.004,\n",
    "          (3,Weeks): 0.00417,\n",
    "          (1,Months): 0.004175,\n",
    "          (2,Months): 0.00429,\n",
    "          (3,Months): 0.004366,\n",
    "          (4,Months): 0.004515,\n",
    "          (5,Months): 0.00472,\n",
    "          (6,Months): 0.00485,\n",
    "          (9,Months): 0.00518,\n",
    "          (12,Months): 0.005445,\n",
    "          (18,Months): 0.005801,\n",
    "          (2,Years): 0.006070,\n",
    "          (3,Years): 0.006560,\n",
    "          (4,Years): 0.007010,\n",
    "          (5,Years): 0.007490,\n",
    "          (7,Years): 0.012512,\n",
    "          (10,Years): 0.013925,\n",
    "          (12,Years): 0.014701,\n",
    "          (15,Years): 0.015529,\n",
    "          (20,Years): 0.016385,\n",
    "          (25,Years): 0.016780,\n",
    "          (30,Years): 0.016989,\n",
    "          (40,Years): 0.016995,\n",
    "          (50,Years): 0.017085}\n",
    "\n",
    "#convert to ql Quote objects\n",
    "for n,unit in ois.keys():\n",
    "    ois[(n,unit)] = SimpleQuote(ois[(n,unit)])\n",
    "    \n",
    "#Should probably be using a different index but not sure which one?\n",
    "#needed for oisHelpers\n",
    "overnightIndex = FedFunds(discountTermStructure)\n",
    "\n",
    "swaps = { (1,Years): 0.00900,\n",
    "          (2,Years): 0.00975,    \n",
    "          (3,Years): 0.01040,\n",
    "          (4,Years): 0.01099,\n",
    "          (5,Years): 0.01160,\n",
    "          (6,Years): 0.01224,\n",
    "          (7,Years): 0.01284,\n",
    "          (8,Years): 0.01343,\n",
    "          (9,Years): 0.01390,\n",
    "          (10,Years): 0.01438,\n",
    "          (15,Years): 0.01610,\n",
    "          (20,Years): 0.01707,\n",
    "          (25,Years): 0.01752,\n",
    "          (30,Years): 0.01778} # 1 Year = 90bps, etc. \n",
    "\n",
    "\n",
    "#convert swap quotes from floats to Quote objects\n",
    "for (n,unit) in swaps.keys():\n",
    "    swaps[(n,unit)] = SimpleQuote(swaps[(n,unit)])\n"
   ]
  },
  {
   "cell_type": "code",
   "execution_count": 15,
   "metadata": {
    "collapsed": true
   },
   "outputs": [],
   "source": [
    "#Schedule\n",
    "\n",
    "#creates dicts with keys of year term and values of termination date/payment schedule \n",
    "termination_date = {}\n",
    "for i in range(1, 31):\n",
    "    termination_date[i] = termination_cal.advance(settlementDate, Period(i, Years), \\\n",
    "                                                  termination_convention)\n",
    "fixedSchedule = {}\n",
    "for i in range(1, 31):\n",
    "    fixedSchedule[i] = Schedule(settlementDate, termination_date[i], fixedLegTenor, cal, \\\n",
    "                                   fixedLegAdjustment, fixedLegAdjustment, gen_rule, \\\n",
    "                                   end_of_month)\n",
    "floatingSchedule = {}\n",
    "for i in range(1, 31):\n",
    "    floatingSchedule[i] = Schedule(settlementDate, termination_date[i], floatingLegTenor, \\\n",
    "                                   cal, floatingLegAdjustment, floatingLegAdjustment, \\\n",
    "                                   gen_rule, end_of_month)"
   ]
  },
  {
   "cell_type": "code",
   "execution_count": 16,
   "metadata": {
    "collapsed": false
   },
   "outputs": [],
   "source": [
    "#Bootstrapping \n",
    "\n",
    "swapHelpers =  [SwapRateHelper(QuoteHandle(swaps[(n,unit)]), Period(n,unit), cal,\\\n",
    "                                     fixedLegFrequency, fixedLegAdjustment, \\\n",
    "                                     fixedLegDayCounter, liborIndex)\\\n",
    "                      for (n, unit) in swaps.keys() ]\n",
    "\n",
    "oisHelpers = [OISRateHelper(settlementDays, Period (n, unit), QuoteHandle(ois[(n, unit)]), \\\n",
    "                            overnightIndex)\\\n",
    "                     for (n, unit) in ois.keys()]\n",
    "\n",
    "#PiecewiseYieldCurve not exported to python\n",
    "#currently using PiecewiseLogCubic\n",
    "#corresponds to PiecewiseYieldCurve<Discount,LogCubic> in C++\n",
    "#check day counter - using fixedLegDayCounter\n",
    "\n",
    "piecewiseYieldCurve = PiecewiseLogCubicDiscount(settlementDays, cal, swapHelpers, \\\n",
    "                                           fixedLegDayCounter)\n",
    "oisCurve = PiecewiseLogCubicDiscount(settlementDays, cal, oisHelpers, fixedLegDayCounter)\n",
    "oisCurve.enableExtrapolation() #check if necessary"
   ]
  },
  {
   "cell_type": "code",
   "execution_count": 17,
   "metadata": {
    "collapsed": false
   },
   "outputs": [],
   "source": [
    "#Swap additions - linear\n",
    "#uses averages to assign rates to non-existent swap maturities, i.e. 11Y, 12Y, 23Y\n",
    "swapsAdditionsLinear = {}\n",
    "for i in range(11, 31):\n",
    "    if i % 5 != 0:\n",
    "        swapsAdditionsLinear [(i, Years)] = \\\n",
    "                        ((swaps[((i//5 + 1) * 5, Years)].value() \\\n",
    "                          - swaps[((i//5)*5, Years)].value()) \\\n",
    "                          *(i % 5)/5) + swaps[((i//5)*5, Years)].value()\n",
    "for (i, unit) in swapsAdditionsLinear.keys():\n",
    "    swapsAdditionsLinear[(i, unit)] = SimpleQuote(\\\n",
    "                                            swapsAdditionsLinear[(i, unit)])\n",
    "            \n",
    "#both the given swap rates and intermediate values for non-existant maturities        \n",
    "swapsAll = {}\n",
    "for (i, unit) in swaps.keys():\n",
    "    swapsAll[(i, unit)] = swaps[(i, unit)]\n",
    "for (i, unit) in swapsAdditionsLinear.keys():\n",
    "    swapsAll[(i, unit)] = swapsAdditionsLinear[(i, unit)]"
   ]
  },
  {
   "cell_type": "code",
   "execution_count": 18,
   "metadata": {
    "collapsed": false
   },
   "outputs": [
    {
     "name": "stdout",
     "output_type": "stream",
     "text": [
      "1 -0.347397179097\n",
      "2 -0.715941220148\n",
      "3 -1.1160527828\n",
      "4 -1.53585509147\n",
      "5 -1.97257716795\n",
      "6 -1.22968329565\n",
      "7 -0.12982775117\n",
      "8 0.204634308238\n",
      "9 0.034657714142\n",
      "10 -0.287462472929\n",
      "11 -0.300075884659\n",
      "12 -0.23284202677\n",
      "13 -0.25411907279\n",
      "14 -0.371787111948\n",
      "15 -0.554333397443\n",
      "16 -0.562707989536\n",
      "17 -0.593284971944\n",
      "18 -0.652505620841\n",
      "19 -0.749215428813\n",
      "20 -0.891001201178\n",
      "21 -0.894953194718\n",
      "22 -0.931681238228\n",
      "23 -0.994144599917\n",
      "24 -1.07678990947\n",
      "25 -1.17490941861\n",
      "26 -1.20429079657\n",
      "27 -1.24368725335\n",
      "28 -1.29872390305\n",
      "29 -1.37235055186\n",
      "30 -1.46889421672\n"
     ]
    }
   ],
   "source": [
    "#Swap Pricing\n",
    "\n",
    "swapTypes = [VanillaSwap.Payer, VanillaSwap.Receiver]\n",
    "swapType = swapTypes[0]\n",
    "\n",
    "#discountTermStructure.linkTo(piecewiseYieldCurve)\n",
    "forwardTermStructure.linkTo(piecewiseYieldCurve)\n",
    "discountTermStructure.linkTo(oisCurve)\n",
    "#forwardTermStructure.linkTo(oisCurve)\n",
    "swapEngine = DiscountingSwapEngine(discountTermStructure)\n",
    "\n",
    "    \n",
    "vanillaSwaps = {}\n",
    "for i in range(1, 31):\n",
    "    vanillaSwaps[(i, Years)] = VanillaSwap(swapType, fixedLegNotional, fixedSchedule[i],\\\n",
    "                        swapsAll[(i, Years)].value(), fixedLegDayCounter, \\\n",
    "                        floatingSchedule[i], liborIndex, floatingLegSpread,\\\n",
    "                        floatingLegDayCounter)\n",
    "    \n",
    "    vanillaSwaps[(i, Years)].setPricingEngine(swapEngine)\n",
    "    \n",
    "swapsNPV = {}\n",
    "for i in range(1, 31):\n",
    "    swapsNPV[(i, Years)] = vanillaSwaps[(i, Years)].NPV()\n",
    "    print i, swapsNPV[(i, Years)]"
   ]
  },
  {
   "cell_type": "code",
   "execution_count": 8,
   "metadata": {
    "collapsed": true
   },
   "outputs": [],
   "source": [
    "#Swaption Volatility\n",
    "\n",
    "#using constant value of 40%\n",
    "volatilityFlat = 0.40\n",
    "\n",
    "volatilityStructure = ConstantSwaptionVolatility(settlementDays, cal,\\\n",
    "                                                     fixedLegAdjustment, volatilityFlat, \\\n",
    "                                                     fixedLegDayCounter)\n",
    "# default: VolatilityType type=ShiftedLognormal, const Real shift=0.0\n",
    "\n",
    "volatilityStructureHandle = SwaptionVolatilityStructureHandle(volatilityStructure)\n"
   ]
  },
  {
   "cell_type": "code",
   "execution_count": 9,
   "metadata": {
    "collapsed": true
   },
   "outputs": [],
   "source": [
    "#Swaption Inputs\n",
    "\n",
    "swaptionMaturity = Period(3, Months)\n",
    "swaptionExpiry = cal.advance(settlementDate, swaptionMaturity, floatingLegAdjustment)\n",
    "settlementType = Settlement.Physical\n",
    "\n",
    "#European\n",
    "swaptionExercise = EuropeanExercise(swaptionExpiry)"
   ]
  },
  {
   "cell_type": "code",
   "execution_count": 10,
   "metadata": {
    "collapsed": false
   },
   "outputs": [],
   "source": [
    "#Swaption Object\n",
    "\n",
    "swaptionPricingEngine = BlackSwaptionEngine(forwardTermStructure, volatilityStructureHandle)\n",
    "\n",
    "swaptions = {}\n",
    "for i in range(1, 31):\n",
    "    swaptions [(i, Years)] = Swaption(vanillaSwaps[(i, Years)], swaptionExercise, \\\n",
    "                                      settlementType)\n",
    "    \n",
    "    swaptions[(i, Years)].setPricingEngine(swaptionPricingEngine)"
   ]
  },
  {
   "cell_type": "code",
   "execution_count": 11,
   "metadata": {
    "collapsed": false
   },
   "outputs": [
    {
     "name": "stdout",
     "output_type": "stream",
     "text": [
      "1 0.000325303719002\n",
      "2 0.00109244019429\n",
      "3 0.00211726237371\n",
      "4 0.00354013488569\n",
      "5 0.00552482242668\n",
      "6 0.120994292129\n",
      "7 0.624789459791\n",
      "8 0.935436638775\n",
      "9 0.966404550443\n",
      "10 0.93152637443\n",
      "11 1.05048696634\n",
      "12 1.21265959693\n",
      "13 1.33289494538\n",
      "14 1.40673173536\n",
      "15 1.45187299337\n",
      "16 1.56875460076\n",
      "17 1.67463871769\n",
      "18 1.76710917846\n",
      "19 1.84170403057\n",
      "20 1.89520911817\n",
      "21 2.00120389451\n",
      "22 2.08988103162\n",
      "23 2.16541230709\n",
      "24 2.23082025883\n",
      "25 2.28823133543\n",
      "26 2.37121207005\n",
      "27 2.44880013953\n",
      "28 2.51692190196\n",
      "29 2.57568463502\n",
      "30 2.62270900303\n"
     ]
    }
   ],
   "source": [
    "#Swaption Pricing\n",
    "\n",
    "swaptionsNPV = {}\n",
    "for maturity in swaptions.keys():\n",
    "    swaptionsNPV[maturity] = swaptions[maturity].NPV()\n",
    "    \n",
    "for i in range(1, 31):\n",
    "    print i, swaptionsNPV[(i, Years)]\n"
   ]
  },
  {
   "cell_type": "code",
   "execution_count": 12,
   "metadata": {
    "collapsed": false
   },
   "outputs": [],
   "source": [
    "#Implied Volatility\n",
    "\n",
    "swaptionHelpers = {}\n",
    "impliedVols = {}\n",
    "for i in range(1, 31):\n",
    "    swaptionHelpers[(i, Years)] = SwaptionHelper(swaptionMaturity, Period(i, Years), \\\n",
    "                                  QuoteHandle(SimpleQuote(volatilityFlat)), \\\n",
    "                                  liborIndex, fixedLegTenor, fixedLegDayCounter, \\\n",
    "                                  floatingLegDayCounter, forwardTermStructure)\n",
    "\n",
    "    swaptionHelpers[(i, Years)].setPricingEngine(swaptionPricingEngine)\n",
    "\n",
    "#    impliedVols[(i, unit)] = swaptionHelpers[(i, unit)].impliedVolatility(\\\n",
    "#                                                            swaptionsNPV[(i, unit)], \\\n",
    "#                                                            1e-7, 50, 0.0, 10.0)\\\n",
    "                             \n",
    "#input values my be causing runtime errors in the implied vol value                "
   ]
  },
  {
   "cell_type": "code",
   "execution_count": null,
   "metadata": {
    "collapsed": true
   },
   "outputs": [],
   "source": []
  }
 ],
 "metadata": {
  "celltoolbar": "Edit Metadata",
  "kernelspec": {
   "display_name": "Python 2",
   "language": "python",
   "name": "python2"
  },
  "language_info": {
   "codemirror_mode": {
    "name": "ipython",
    "version": 2
   },
   "file_extension": ".py",
   "mimetype": "text/x-python",
   "name": "python",
   "nbconvert_exporter": "python",
   "pygments_lexer": "ipython2",
   "version": "2.7.12"
  }
 },
 "nbformat": 4,
 "nbformat_minor": 0
}
