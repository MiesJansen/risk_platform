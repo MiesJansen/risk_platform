{
 "cells": [
  {
   "cell_type": "code",
   "execution_count": 9,
   "metadata": {
    "collapsed": false
   },
   "outputs": [
    {
     "name": "stdout",
     "output_type": "stream",
     "text": [
      "September 20th, 2016\n"
     ]
    }
   ],
   "source": [
    "from QuantLib import *\n",
    "\n",
    "today = Date(20, 9, 2016)\n",
    "calendar = TARGET()\n",
    "conv1 = ModifiedFollowing\n",
    "conv2 = Unadjusted\n",
    "frequency = Semiannual\n",
    "Settings.instance().evaluationDate = today\n",
    "settlementDate = calendar.advance(today,2,Days,conv1)  # business day/ effective date\n",
    "\n",
    "terminationDate = [ calendar.advance(settlementDate,\n",
    "                               n, Years,conv2) \n",
    "                for n in range(1, 31) ]\n",
    "# Unadjusted\n",
    "\n",
    "print Settings.instance().evaluationDate\n"
   ]
  },
  {
   "cell_type": "code",
   "execution_count": 10,
   "metadata": {
    "collapsed": false
   },
   "outputs": [],
   "source": [
    "tenor = Period(6,Months)\n",
    "schedule = [ Schedule(settlementDate,terminationDate[n],tenor,calendar,\n",
    "             conv1,conv1,DateGeneration.Forward, False)\n",
    "                for n in range(30) ]"
   ]
  },
  {
   "cell_type": "code",
   "execution_count": 11,
   "metadata": {
    "collapsed": false
   },
   "outputs": [
    {
     "name": "stdout",
     "output_type": "stream",
     "text": [
      "Actual/360 day counter\n"
     ]
    }
   ],
   "source": [
    "ois = {   (1,Days): 0.004,\n",
    "          (1,Weeks): 0.004,\n",
    "          (2,Weeks): 0.004,\n",
    "          (3,Weeks): 0.00417,\n",
    "          (1,Months): 0.004175,\n",
    "          (2,Months): 0.00429,\n",
    "          (3,Months): 0.004366,\n",
    "          (4,Months): 0.004515,\n",
    "          (5,Months): 0.00472,\n",
    "          (6,Months): 0.00485,\n",
    "          (9,Months): 0.00518,\n",
    "          (12,Months): 0.005445,\n",
    "          (18,Months): 0.005801,\n",
    "          (2,Years): 0.006070,\n",
    "          (3,Years): 0.006560,\n",
    "          (4,Years): 0.007010,\n",
    "          (5,Years): 0.007490,\n",
    "          (7,Years): 0.012512,\n",
    "          (10,Years): 0.013925,\n",
    "          (12,Years): 0.014701,\n",
    "          (15,Years): 0.015529,\n",
    "          (20,Years): 0.016385,\n",
    "          (25,Years): 0.016780,\n",
    "          (30,Years): 0.016989,\n",
    "          (40,Years): 0.016995,\n",
    "          (50,Years): 0.017085}\n",
    "\n",
    "for n,unit in ois.keys():\n",
    "    ois[(n,unit)] = SimpleQuote(ois[(n,unit)])\n",
    "\n",
    "# term structure handles\n",
    "#RelinkableHandle<YieldTermStructure>\n",
    "discountTermStructure = RelinkableYieldTermStructureHandle()\n",
    "forecastTermStructure = RelinkableYieldTermStructureHandle() \n",
    "\n",
    "index = USDLibor(tenor,forecastTermStructure) \n",
    "\n",
    "floatingLegDayCounter = index.dayCounter()\n",
    "fixedLegDayCounter = Thirty360()\n",
    "\n",
    "oisHelpers = [ SwapRateHelper(QuoteHandle(ois[(n,unit)]), # handle<quote>\n",
    "                               Period(n,unit), calendar,\n",
    "                               frequency, conv1,\n",
    "                               fixedLegDayCounter, index)\n",
    "                for n, unit in ois.keys() ]\n",
    "print (floatingLegDayCounter)"
   ]
  },
  {
   "cell_type": "code",
   "execution_count": 12,
   "metadata": {
    "collapsed": false
   },
   "outputs": [],
   "source": [
    "# term-structure construction\n",
    "oisCurve = PiecewiseFlatForward(settlementDate, oisHelpers, Actual360())\n",
    "\n",
    "discountTermStructure.linkTo(oisCurve)\n",
    "forecastTermStructure.linkTo(oisCurve)"
   ]
  },
  {
   "cell_type": "code",
   "execution_count": 13,
   "metadata": {
    "collapsed": true
   },
   "outputs": [],
   "source": [
    "swaps = { (1,Years): 0.009,\n",
    "          (2,Years): 0.00975,\n",
    "          (3,Years): 0.01040,\n",
    "          (4,Years): 0.01099,\n",
    "          (5,Years): 0.0116,\n",
    "          (6,Years): 0.01224,\n",
    "          (7,Years): 0.01284,\n",
    "          (8,Years): 0.01343,\n",
    "          (9,Years): 0.01390,\n",
    "          (10,Years): 0.01438,\n",
    "          (15,Years): 0.01610,\n",
    "          (20,Years): 0.01707,\n",
    "          (25,Years): 0.01752,\n",
    "          (30,Years): 0.01778}\n",
    "for n,unit in swaps.keys():\n",
    "    swaps[(n,unit)] = SimpleQuote(swaps[(n,unit)])\n",
    "    "
   ]
  },
  {
   "cell_type": "code",
   "execution_count": 14,
   "metadata": {
    "collapsed": false
   },
   "outputs": [],
   "source": [
    "PricingEngine = DiscountingSwapEngine(discountTermStructure)\n",
    "length = 1\n",
    "fixedRate = swaps[(length,Years)].value()\n",
    "spread = 0.0\n",
    "fixingDays = 2\n",
    "nominal = 100\n",
    "payFixed = True"
   ]
  },
  {
   "cell_type": "code",
   "execution_count": 15,
   "metadata": {
    "collapsed": false
   },
   "outputs": [],
   "source": [
    "# Swap index\n",
    "irswap = VanillaSwap(VanillaSwap.Payer, nominal,\n",
    "                   schedule[length-1], fixedRate, fixedLegDayCounter,\n",
    "                   schedule[length-1], index, spread,\n",
    "                   floatingLegDayCounter)"
   ]
  },
  {
   "cell_type": "code",
   "execution_count": 16,
   "metadata": {
    "collapsed": false
   },
   "outputs": [
    {
     "name": "stdout",
     "output_type": "stream",
     "text": [
      "-0.354105945562\n"
     ]
    }
   ],
   "source": [
    "irswap.setPricingEngine(PricingEngine)\n",
    "print (irswap.NPV())"
   ]
  }
 ],
 "metadata": {
  "anaconda-cloud": {},
  "kernelspec": {
   "display_name": "Python 2",
   "language": "python",
   "name": "python2"
  },
  "language_info": {
   "codemirror_mode": {
    "name": "ipython",
    "version": 2
   },
   "file_extension": ".py",
   "mimetype": "text/x-python",
   "name": "python",
   "nbconvert_exporter": "python",
   "pygments_lexer": "ipython2",
   "version": "2.7.12"
  }
 },
 "nbformat": 4,
 "nbformat_minor": 0
}
